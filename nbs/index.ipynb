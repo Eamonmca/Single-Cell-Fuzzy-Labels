{
 "cells": [
  {
   "cell_type": "code",
   "execution_count": null,
   "metadata": {},
   "outputs": [],
   "source": [
    "#| hide\n",
    "from Single_Cell_Fuzzy_Labels.core import *"
   ]
  },
  {
   "cell_type": "markdown",
   "metadata": {},
   "source": [
    "# Single-Cell-Fuzzy-Labels\n",
    "\n",
    "> This GitHub repo offers a method for label transfer in single-cell RNA-seq data using shared embeddings from foundation models. It leverages language model APIs (GPT-3.5 or 4) for harmonizing label sets, enhancing transfer interpretation and facilitating basic metric evaluation."
   ]
  },
  {
   "cell_type": "markdown",
   "metadata": {},
   "source": [
    " The `Single-Cell-Fuzzy-Labels` library introduces an innovative label transfer methodology for single-cell RNA-seq data analysis. Utilizing a K-nearest neighbors (KNN) strategy, the library facilitates the transfer of labels from newly queried data to a well-annotated reference dataset. By harnessing the capabilities of pre-trained Single Cell foundation models in conjunction with advanced language models like GPT-3.5 or 4, `Single-Cell-Fuzzy-Labels` streamlines the harmonization of different label sets. This process not only improves the interpretability of label transfers but also ensures a more coherent integration of data. The library further provides essential metrics to assess the efficacy of the label transfer under this new label schema.\n",
    "\n"
   ]
  },
  {
   "cell_type": "markdown",
   "metadata": {},
   "source": [
    "## Install"
   ]
  },
  {
   "cell_type": "markdown",
   "metadata": {},
   "source": [
    "```sh\n",
    "pip install Single_Cell_Fuzzy_Labels\n",
    "```"
   ]
  },
  {
   "cell_type": "markdown",
   "metadata": {},
   "source": [
    "## How to use"
   ]
  },
  {
   "cell_type": "markdown",
   "metadata": {},
   "source": [
    "To utilize the `Single-Cell-Fuzzy-Labels` library in your single-cell RNA-seq data analysis, follow these steps:\n",
    "\n",
    "1. Install the library using pip:\n",
    "   ```sh\n",
    "   pip install Single_Cell_Fuzzy_Labels\n",
    "   ```\n",
    "\n",
    "2. Import the library in your Python environment:\n",
    "   ```python\n",
    "   from Single_Cell_Fuzzy_Labels.core import *\n",
    "   ```\n",
    "\n",
    "Optional steps before label transfer:\n",
    "\n",
    "3. Download pre-trained embeddings from cellxgene:\n",
    "   ```python\n",
    "   embeddings = download_embeddings(cellxgene_url)\n",
    "   ```\n",
    "\n",
    "   Or\n",
    "\n",
    "   Embed your own dataset using a foundation model such as UCE or scGPT:\n",
    "   ```python\n",
    "   dataset_embeddings = embed_dataset(your_dataset, model='UCE')\n",
    "   ```\n",
    "\n",
    "4. Assess embedding quality using Single-cell Integration Benchmarking (scIB):\n",
    "   ```python\n",
    "   quality_metrics = assess_embedding_quality(dataset_embeddings)\n",
    "   ```\n",
    "\n",
    "5. Prepare your reference dataset with well-annotated labels.\n",
    "\n",
    "6. Use the `transfer_labels` function to transfer labels from the reference dataset to your new query data:\n",
    "   ```python\n",
    "   transferred_labels = transfer_labels(query_data, reference_data)\n",
    "   ```\n",
    "\n",
    "7. Evaluate the label transfer quality using the provided metrics:\n",
    "   ```python\n",
    "   evaluate_transfer(transferred_labels)\n",
    "   ```\n",
    "\n",
    "For more detailed usage instructions and examples, refer to the documentation and the tutorials included in the GitHub repository.\n"
   ]
  },
  {
   "cell_type": "code",
   "execution_count": null,
   "metadata": {},
   "outputs": [
    {
     "data": {
      "text/plain": [
       "2"
      ]
     },
     "execution_count": null,
     "metadata": {},
     "output_type": "execute_result"
    }
   ],
   "source": []
  },
  {
   "cell_type": "code",
   "execution_count": null,
   "metadata": {},
   "outputs": [],
   "source": []
  }
 ],
 "metadata": {
  "kernelspec": {
   "display_name": "python3",
   "language": "python",
   "name": "python3"
  }
 },
 "nbformat": 4,
 "nbformat_minor": 4
}
