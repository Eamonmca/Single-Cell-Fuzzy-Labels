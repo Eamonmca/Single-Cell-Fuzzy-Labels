{
 "cells": [
  {
   "cell_type": "markdown",
   "metadata": {},
   "source": [
    "# Download Embeddings CELLxGENE \n",
    "\n",
    "## This module interfaces with the CZ CELLxGENE Discover Census package to download pre-computed embeddings for a subset of cells. These embeddings can be used as a reference for label transfer in single-cell analyses.\n"
   ]
  },
  {
   "cell_type": "code",
   "execution_count": 1,
   "metadata": {},
   "outputs": [],
   "source": [
    "#| default_exp Census"
   ]
  },
  {
   "cell_type": "code",
   "execution_count": 2,
   "metadata": {},
   "outputs": [],
   "source": [
    "#| hide\n",
    "from nbdev.showdoc import *"
   ]
  },
  {
   "cell_type": "markdown",
   "metadata": {},
   "source": [
    "# Download and Embed Census Data Function\n",
    "This function `download_and_embed_census_data` is designed to automate the process of downloading census data and retrieving embeddings for a specific organism and tissue type. It takes four parameters: `census_version` to specify the version of the census data, `embedding_uri` to provide the location of the embeddings data, `organism` to filter the data for a particular organism (like \"homo_sapiens\"), and `tissue` to specify the tissue type (like \"blood\"). The function returns an Anndata object that contains the embeddings corresponding to the filtered census data.\n"
   ]
  },
  {
   "cell_type": "code",
   "execution_count": 3,
   "metadata": {},
   "outputs": [],
   "source": [
    "#| export\n",
    "def download_and_embed_census_data(census_version='2023-12-15', embedding_uri='s3://cellxgene-contrib-public/contrib/cell-census/soma/2023-12-15/CxG-contrib-2', organism='homo_sapiens', tissue='blood'):\n",
    "    \"\"\"\n",
    "    Download census data and retrieve embeddings for the specified organism and tissue with default parameters.\n",
    "\n",
    "    :param census_version: Version of the census data to use, default is '2023-12-15'\n",
    "    :param embedding_uri: URI for the embeddings data, default is the provided S3 bucket path\n",
    "    :param organism: Organism to filter by, default is 'homo_sapiens'\n",
    "    :param tissue: Tissue to filter by, default is 'blood'\n",
    "    :return: Anndata object with embeddings\n",
    "    \"\"\"\n",
    "    \n",
    "    import cellxgene_census\n",
    "    from cellxgene_census.experimental import get_embedding\n",
    "\n",
    "    # Open the census data for the given version\n",
    "    census = cellxgene_census.open_soma(census_version=census_version)\n",
    "\n",
    "    # Get the Anndata object for the specified organism and tissue\n",
    "    adata = cellxgene_census.get_anndata(\n",
    "        census,\n",
    "        organism=organism,\n",
    "        measurement_name=\"RNA\",\n",
    "        obs_value_filter=f\"tissue_general == '{tissue}'\",\n",
    "    )\n",
    "\n",
    "    # Retrieve embeddings using the soma_joinid from the Anndata object\n",
    "    embeddings = get_embedding(census_version, embedding_uri, adata.obs[\"soma_joinid\"].to_numpy())\n",
    "    adata.obsm[\"emb\"] = embeddings\n",
    "\n",
    "    return adata\n"
   ]
  },
  {
   "cell_type": "markdown",
   "metadata": {},
   "source": [
    "\n",
    "# Example Usage\n",
    "The following code snippet demonstrates how to use the `download_and_embed_census_data` function to download and embed census data for human blood tissue. The function is called with default parameters for `census_version` and `embedding_uri`, while `organism` and `tissue` are set to 'homo_sapiens' and 'blood', respectively. The result is stored in the variable `reference`, which contains the Anndata object with the embeddings.\n",
    "\n",
    "\n"
   ]
  },
  {
   "cell_type": "code",
   "execution_count": 4,
   "metadata": {},
   "outputs": [],
   "source": [
    "# reference = download_and_embed_census_data(organism='homo_sapiens', tissue='blood')"
   ]
  },
  {
   "cell_type": "code",
   "execution_count": 5,
   "metadata": {},
   "outputs": [],
   "source": [
    "# reference"
   ]
  },
  {
   "cell_type": "code",
   "execution_count": 6,
   "metadata": {},
   "outputs": [],
   "source": [
    "#| hide\n",
    "import nbdev; nbdev.nbdev_export()"
   ]
  }
 ],
 "metadata": {
  "kernelspec": {
   "display_name": "Python 3",
   "language": "python",
   "name": "python3"
  },
  "language_info": {
   "codemirror_mode": {
    "name": "ipython",
    "version": 3
   },
   "file_extension": ".py",
   "mimetype": "text/x-python",
   "name": "python",
   "nbconvert_exporter": "python",
   "pygments_lexer": "ipython3",
   "version": "3.9.18"
  }
 },
 "nbformat": 4,
 "nbformat_minor": 2
}
