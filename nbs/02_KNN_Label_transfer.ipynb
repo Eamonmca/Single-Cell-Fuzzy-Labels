{
 "cells": [
  {
   "cell_type": "code",
   "execution_count": 1,
   "metadata": {},
   "outputs": [],
   "source": [
    "#| hide\n",
    "from nbdev.showdoc import *"
   ]
  },
  {
   "cell_type": "markdown",
   "metadata": {},
   "source": [
    "# KNN Label Transfer\n",
    "\n",
    "## The `KNN_Label_transfer` module provides functionality for label transfer between datasets using k-nearest neighbors (KNN) algorithms. It includes methods for majority and weighted voting based on nearest neighbors, calculation of centroids for labeled data, and label assignment based on nearest centroids. This module is designed to facilitate the propagation of labels from a reference dataset with known labels to a query dataset where labels are unknown.\n"
   ]
  },
  {
   "cell_type": "code",
   "execution_count": 2,
   "metadata": {},
   "outputs": [],
   "source": [
    "#| default_exp KNN_Label_transfer\n"
   ]
  },
  {
   "cell_type": "code",
   "execution_count": 3,
   "metadata": {},
   "outputs": [],
   "source": [
    "#| export\n",
    "def knn_majority_voting(indices, reference_labels):\n",
    "    \"Determines the final label for each point in the query dataset using majority voting based on the labels of the k nearest neighbors in the reference dataset.\"\n",
    "    query_labels = []\n",
    "    for ind in indices:\n",
    "        neighbor_labels = [reference_labels[i] for i in ind]\n",
    "        label_counts = Counter(neighbor_labels)\n",
    "        most_common_label = label_counts.most_common(1)[0][0]\n",
    "        query_labels.append(most_common_label)\n",
    "    return query_labels\n"
   ]
  },
  {
   "cell_type": "code",
   "execution_count": 4,
   "metadata": {},
   "outputs": [],
   "source": [
    "#| export\n",
    "def knn_weighted_voting(indices, distances, reference_labels):\n",
    "    \"Determines the final label for each point in the query dataset using weighted voting based on the labels and distances of the k nearest neighbors in the reference dataset.\"\n",
    "    query_labels = []\n",
    "    for ind, dist in zip(indices, distances):\n",
    "        weighted_votes = {}\n",
    "        for i, d in zip(ind, dist):\n",
    "            label = reference_labels[i]\n",
    "            weight = 1 / (d + 1e-6)  # Adding a small constant to avoid division by zero\n",
    "            weighted_votes[label] = weighted_votes.get(label, 0) + weight\n",
    "        most_common_label = max(weighted_votes, key=weighted_votes.get)\n",
    "        query_labels.append(most_common_label)\n",
    "    return query_labels\n"
   ]
  },
  {
   "cell_type": "code",
   "execution_count": 5,
   "metadata": {},
   "outputs": [],
   "source": [
    "#| export\n",
    "def calculate_centroids(reference_data, reference_labels):\n",
    "    \"Calculates the centroids for each label in the reference dataset.\"\n",
    "    label_sums = defaultdict(lambda: np.zeros(len(reference_data[0])))\n",
    "    label_counts = Counter(reference_labels)\n",
    "    for data, label in zip(reference_data, reference_labels):\n",
    "        label_sums[label] += np.array(data)\n",
    "    centroids = {label: label_sums[label] / count for label, count in label_counts.items()}\n",
    "    return centroids\n"
   ]
  },
  {
   "cell_type": "code",
   "execution_count": 6,
   "metadata": {},
   "outputs": [],
   "source": [
    "#| export\n",
    "def assign_labels_by_nearest_centroid(query_data, centroids):\n",
    "    \"Assigns labels to each point in the query dataset based on the nearest centroid.\"\n",
    "    query_labels = []\n",
    "    for data in query_data:\n",
    "        data_point = np.array(data)\n",
    "        closest_label = min(centroids.keys(), key=lambda label: np.linalg.norm(data_point - centroids[label]))\n",
    "        query_labels.append(closest_label)\n",
    "    return query_labels"
   ]
  },
  {
   "cell_type": "code",
   "execution_count": 7,
   "metadata": {},
   "outputs": [],
   "source": [
    "#| export\n",
    "def run_label_transfer(embedding_array_reference, embedding_array_query, reference_labels,\n",
    "                       k=1, use_gpu=True, batch_size=None, distance_metric='L2',\n",
    "                       label_consensus='majority_voting', timed=False):\n",
    "    \"Transfers labels from a reference dataset to a query dataset using FAISS.\"\n",
    "    \n",
    "    \n",
    "    from collections import Counter, defaultdict\n",
    "    import numpy as np\n",
    "    import faiss\n",
    "    import time\n",
    "    \n",
    "    start_time = time.time()\n",
    "    dimension = embedding_array_reference.shape[1]\n",
    "    res = faiss.StandardGpuResources() if use_gpu else None\n",
    "    if use_gpu:\n",
    "        res.noTempMemory()\n",
    "    if distance_metric == 'L2':\n",
    "        index = faiss.GpuIndexFlatL2(res, dimension) if use_gpu else faiss.IndexFlatL2(dimension)\n",
    "    elif distance_metric == 'IP':\n",
    "        index = faiss.GpuIndexFlatIP(res, dimension) if use_gpu else faiss.IndexFlatIP(dimension)\n",
    "    else:\n",
    "        raise ValueError(\"Invalid distance metric. Choose 'L2' or 'IP'.\")\n",
    "    index.add(embedding_array_reference)\n",
    "    num_query_points = embedding_array_query.shape[0]\n",
    "    batch_size = batch_size or num_query_points\n",
    "    query_labels = []\n",
    "    for i in range(0, num_query_points, batch_size):\n",
    "        batch_query = embedding_array_query[i:i + batch_size]\n",
    "        distances, indices = index.search(batch_query, k)\n",
    "        if k > 1 and label_consensus == 'majority_voting':\n",
    "            batch_labels = knn_majority_voting(indices, reference_labels)\n",
    "        elif k > 1 and label_consensus == 'weighted_voting':\n",
    "            batch_labels = knn_weighted_voting(indices, distances, reference_labels)\n",
    "        elif label_consensus == 'centroid_based':\n",
    "            if i == 0:  # Calculate centroids only once\n",
    "                centroids = calculate_centroids(embedding_array_reference, reference_labels)\n",
    "            batch_labels = assign_labels_by_nearest_centroid(batch_query, centroids)\n",
    "        else:\n",
    "            batch_labels = [reference_labels[i[0]] for i in indices]\n",
    "        query_labels.extend(batch_labels)\n",
    "    end_time = time.time()\n",
    "    duration_minutes = (end_time - start_time) / 60\n",
    "    if timed:\n",
    "        return query_labels, duration_minutes\n",
    "    else:\n",
    "        return query_labels\n",
    "# End of Selection"
   ]
  },
  {
   "cell_type": "code",
   "execution_count": 8,
   "metadata": {},
   "outputs": [],
   "source": [
    "#| hide\n",
    "import nbdev; nbdev.nbdev_export()\n",
    "\n"
   ]
  }
 ],
 "metadata": {
  "kernelspec": {
   "display_name": "Python 3",
   "language": "python",
   "name": "python3"
  },
  "language_info": {
   "codemirror_mode": {
    "name": "ipython",
    "version": 3
   },
   "file_extension": ".py",
   "mimetype": "text/x-python",
   "name": "python",
   "nbconvert_exporter": "python",
   "pygments_lexer": "ipython3",
   "version": "3.9.18"
  }
 },
 "nbformat": 4,
 "nbformat_minor": 2
}
