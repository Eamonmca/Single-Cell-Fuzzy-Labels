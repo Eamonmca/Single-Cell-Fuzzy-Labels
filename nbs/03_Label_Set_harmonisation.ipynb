{
 "cells": [
  {
   "cell_type": "markdown",
   "metadata": {},
   "source": [
    "# Label Set Harmonisation \n",
    "\n",
    "> This module provides funcetions to harmonise cell type labels between different label sets using AI-assisted matching. It leverages OpenAI's GPT API model to associate labels from an existing set with those from a predicted set, based on its natural language processing capabilities and internal knowledge.\n"
   ]
  },
  {
   "cell_type": "code",
   "execution_count": 1,
   "metadata": {},
   "outputs": [],
   "source": [
    "#| hide\n",
    "from nbdev.showdoc import *"
   ]
  },
  {
   "cell_type": "code",
   "execution_count": 2,
   "metadata": {},
   "outputs": [],
   "source": [
    "#| default_exp Harmonisation"
   ]
  },
  {
   "cell_type": "code",
   "execution_count": 3,
   "metadata": {},
   "outputs": [],
   "source": [
    "#| export\n",
    "def match_cell_labels(existing_labels_set:set, # A set of existing cell type labels\n",
    "                      predicted_labels_set:set, # A set of predicted cell type labels\n",
    "                      openai_api_key:str=None): # The API key for OpenAI. If not provided, it will be taken from the environment variable 'OPENAI_API_KEY'\n",
    "    \"\"\"\n",
    "    Match cell type labels from two sets using OpenAI's GPT-4 model.\n",
    "\n",
    "    Returns:\n",
    "        A dictionary representing the JSON object with matched labels.\n",
    "    \"\"\"\n",
    "    \n",
    "    from openai import OpenAI\n",
    "    import os\n",
    "    import json\n",
    "    \n",
    "    # Use the provided API key or get it from the environment variable\n",
    "    api_key = openai_api_key or os.getenv('OPENAI_API_KEY')\n",
    "    if api_key is None:\n",
    "        raise ValueError(\"An OpenAI API key must be provided either as an argument or as an environment variable 'OPENAI_API_KEY'.\")\n",
    "\n",
    "    # Construct the prompt\n",
    "    prompt = f\"First set of labels: {existing_labels_set}. Second set of labels: {predicted_labels_set}. \" \\\n",
    "             \"Associate each label in the first set with labels in the second set, based on cell type similarity, \" \\\n",
    "             \"as accurately as possible. Return answer as JSON object\"\n",
    "\n",
    "    # Initialize the OpenAI client with the API key\n",
    "    client = OpenAI(api_key=api_key)\n",
    "\n",
    "    # Create a completion request to the OpenAI API\n",
    "    completion = client.chat.completions.create(\n",
    "        model=\"gpt-4-1106-preview\",\n",
    "        messages=[\n",
    "            {\"role\": \"system\", \"content\": \"You are a knowledgeable Cell Biologist who is capable of comparing and relating different types of cell classifications. Two lists of cell type labels will be provided to you. Your task is to match each label from the first list with the most appropriate corresponding label(s) from the second list. There might be situations where multiple labels from either list match one label in the other list. Your responses need to showcase the strength of your analysis and reasoning, based on your scientific understanding and the knowledge you have gained from extensive reading on this subject. Submit your answers in the form of a JSON object.\"},\n",
    "            {\"role\": \"user\", \"content\": prompt}\n",
    "        ],\n",
    "        response_format={\"type\": \"json_object\"}\n",
    "    )\n",
    "\n",
    "    # Extract the response\n",
    "    bingo = completion.choices[0].message\n",
    "\n",
    "    # Parse the response as JSON\n",
    "    try:\n",
    "        json_data = json.loads(str(bingo.content))\n",
    "        return json_data\n",
    "    except json.JSONDecodeError:\n",
    "        print(\"The message is not in JSON format.\")\n",
    "        return None\n"
   ]
  },
  {
   "cell_type": "code",
   "execution_count": 4,
   "metadata": {},
   "outputs": [],
   "source": [
    "#| export\n",
    "def map_labels_to_categories(label_list: list, # A list of labels that need to be categorized\n",
    "                             label_dict: dict # A dictionary where keys are categories and values are lists of labels belonging to those categories) -> list: \n",
    "):\n",
    "    \n",
    "    \"\"\"\n",
    "    Maps each label in `label_list` to its corresponding category based on `label_dict`.\n",
    "    \n",
    "    Returns:\n",
    "    - list of str\n",
    "        A list of categories corresponding to each label in `label_list`.\n",
    "    \"\"\"\n",
    "    label_to_category = {}\n",
    "\n",
    "    # Constructing a mapping from label to category\n",
    "    for category, labels in label_dict.items():\n",
    "        if isinstance(labels, list):\n",
    "            for label in labels:\n",
    "                label_to_category[label] = category\n",
    "        else:\n",
    "            label_to_category[labels] = category\n",
    "\n",
    "    # Mapping each label in the label_list to its category\n",
    "    mapped_list = [label_to_category.get(label, \"unknown\") for label in label_list]\n",
    "\n",
    "    return mapped_list"
   ]
  },
  {
   "cell_type": "code",
   "execution_count": 5,
   "metadata": {},
   "outputs": [],
   "source": [
    "#| hide\n",
    "import nbdev; nbdev.nbdev_export()"
   ]
  }
 ],
 "metadata": {
  "kernelspec": {
   "display_name": "Python 3",
   "language": "python",
   "name": "python3"
  },
  "language_info": {
   "codemirror_mode": {
    "name": "ipython",
    "version": 3
   },
   "file_extension": ".py",
   "mimetype": "text/x-python",
   "name": "python",
   "nbconvert_exporter": "python",
   "pygments_lexer": "ipython3",
   "version": "3.9.18"
  }
 },
 "nbformat": 4,
 "nbformat_minor": 2
}
