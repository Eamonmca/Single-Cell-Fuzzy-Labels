{
 "cells": [
  {
   "cell_type": "markdown",
   "metadata": {},
   "source": [
    "# Label Set Harmonisation \n",
    "\n",
    "> This module provides funcetions to harmonise cell type labels between different label sets using AI-assisted matching. It leverages OpenAI's GPT API model to associate labels from an existing set with those from a predicted set, based on its natural language processing capabilities and internal knowledge.\n"
   ]
  },
  {
   "cell_type": "code",
   "execution_count": 1,
   "metadata": {},
   "outputs": [],
   "source": [
    "#| hide\n",
    "from nbdev.showdoc import *"
   ]
  },
  {
   "cell_type": "code",
   "execution_count": 2,
   "metadata": {},
   "outputs": [],
   "source": [
    "#| default_exp harmonise"
   ]
  },
  {
   "cell_type": "code",
   "execution_count": 3,
   "metadata": {},
   "outputs": [],
   "source": [
    "#| export\n",
    "def match_cell_labels(existing_labels_set:set, # A set of existing cell type labels\n",
    "                      predicted_labels_set:set, # A set of predicted cell type labels\n",
    "                      openai_api_key:str=None  # The API key for OpenAI. If not provided, it will be taken from the environment variable 'OPENAI_API_KEY'\n",
    "                      ) -> dict: # A dictionary representing the JSON object with matched labels.\n",
    "    \n",
    "    \"\"\"\n",
    "    This function matches cell type labels from two sets using OpenAI's GPT-4 model.\n",
    "    \"\"\"\n",
    "    \n",
    "    # Import necessary libraries\n",
    "    from openai import OpenAI\n",
    "    import os\n",
    "    import json\n",
    "    \n",
    "    # Use the provided API key or get it from the environment variable\n",
    "    api_key = openai_api_key or os.getenv('OPENAI_API_KEY')\n",
    "    if api_key is None:\n",
    "        raise ValueError(\"An OpenAI API key must be provided either as an argument or as an environment variable 'OPENAI_API_KEY'.\")\n",
    "\n",
    "    # Construct the prompt for the OpenAI model\n",
    "    prompt = f\"First set of labels: {predicted_labels_set}. Second set of labels: {existing_labels_set}. \" \\\n",
    "             \"Associate each label in the first set with labels in the second set, based on your knowledge of cell type similarity, \" \\\n",
    "             \"as accurately as possible. Return answer as JSON object\"\n",
    "\n",
    "    # Initialize the OpenAI client with the API key\n",
    "    client = OpenAI(api_key=api_key)\n",
    "\n",
    "    # Create a completion request to the OpenAI API\n",
    "    completion = client.chat.completions.create(\n",
    "        model=\"gpt-4-1106-preview\",\n",
    "        messages=[\n",
    "            {\"role\": \"system\", \"content\":\"As an expert Cell Biologist with extensive knowledge in comparing and relating various cell classification types, you will be presented with two lists of cell type labels. Your objective is to accurately match each label from the first list with its most suitable counterpart in the second list. It is important to note that multiple labels from the first list may correspond to a single label in the second list, reflecting differences in annotation resolution. Your responses should demonstrate the depth of your analytical and reasoning skills, underpinned by your comprehensive scientific understanding and the insights you've acquired from thorough research in this field. Please submit your answers in the form of a JSON object.\"},\n",
    "            {\"role\": \"user\", \"content\": prompt}\n",
    "        ],\n",
    "        response_format={\"type\": \"json_object\"}\n",
    "    )\n",
    "\n",
    "    # Extract the response from the completion object\n",
    "    bingo = completion.choices[0].message\n",
    "\n",
    "    # Parse the response as JSON\n",
    "    try:\n",
    "        json_data = json.loads(str(bingo.content))\n",
    "        return json_data\n",
    "    except json.JSONDecodeError:\n",
    "        print(\"The message is not in JSON format.\")\n",
    "        return None\n",
    "\n",
    "#| export\n",
    "def map_old_labels_to_new(old_labels: list, # A list of old labels that need to be mapped to new labels\n",
    "                          label_mapping: dict # A dictionary where keys are old labels and values are new labels\n",
    "                          ) -> list: # Returns a list of new labels corresponding to each old label in `old_labels`.\n",
    "    \n",
    "    \"\"\"\n",
    "    Maps each old label in `old_labels` to its corresponding new label based on `label_mapping`.\n",
    "    \"\"\"\n",
    "    old_to_new_label = {}\n",
    "\n",
    "    # Constructing a mapping from old label to new label\n",
    "    for old_label, new_labels in label_mapping.items():\n",
    "        if isinstance(new_labels, list):\n",
    "            for new_label in new_labels:\n",
    "                old_to_new_label[old_label] = new_label\n",
    "        else:\n",
    "            old_to_new_label[old_label] = new_labels\n",
    "\n",
    "    # Mapping each old label in the old_labels list to its new label\n",
    "    mapped_list = [old_to_new_label.get(label, \"unknown\") for label in old_labels]\n",
    "\n",
    "    return mapped_list"
   ]
  },
  {
   "cell_type": "code",
   "execution_count": 4,
   "metadata": {},
   "outputs": [],
   "source": [
    "#| export\n",
    "def map_labels_to_categories(label_list: list, # A list of labels that need to be categorized\n",
    "                             label_dict: dict # A dictionary where keys are categories and values are lists of labels belonging to those categories\n",
    "                             ) -> list: # Returns a list of categories corresponding to each label in `label_list`.\n",
    "    \n",
    "    \"\"\"\n",
    "    Maps each label in `label_list` to its corresponding category based on `label_dict`.\n",
    "    \"\"\"\n",
    "    label_to_category = {}\n",
    "\n",
    "    # Constructing a mapping from label to category\n",
    "    for category, labels in label_dict.items():\n",
    "        if isinstance(labels, list):\n",
    "            for label in labels:\n",
    "                label_to_category[label] = category\n",
    "        else:\n",
    "            label_to_category[labels] = category\n",
    "\n",
    "    # Mapping each label in the label_list to its category\n",
    "    mapped_list = [label_to_category.get(label, \"unknown\") for label in label_list]\n",
    "\n",
    "    return mapped_list"
   ]
  },
  {
   "cell_type": "code",
   "execution_count": 5,
   "metadata": {},
   "outputs": [],
   "source": [
    "#| hide\n",
    "import nbdev; nbdev.nbdev_export()"
   ]
  }
 ],
 "metadata": {
  "kernelspec": {
   "display_name": "Python 3",
   "language": "python",
   "name": "python3"
  },
  "language_info": {
   "codemirror_mode": {
    "name": "ipython",
    "version": 3
   },
   "file_extension": ".py",
   "mimetype": "text/x-python",
   "name": "python",
   "nbconvert_exporter": "python",
   "pygments_lexer": "ipython3",
   "version": "3.9.18"
  }
 },
 "nbformat": 4,
 "nbformat_minor": 2
}
